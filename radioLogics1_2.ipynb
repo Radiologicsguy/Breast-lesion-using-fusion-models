{
  "nbformat": 4,
  "nbformat_minor": 0,
  "metadata": {
    "colab": {
      "provenance": [],
      "mount_file_id": "1a-8HMjnRhf6auSO_2XJ24KxxchA5FMkj",
      "authorship_tag": "ABX9TyM72xDKeo+gETwrqMex3wNM",
      "include_colab_link": true
    },
    "kernelspec": {
      "name": "python3",
      "display_name": "Python 3"
    },
    "language_info": {
      "name": "python"
    }
  },
  "cells": [
    {
      "cell_type": "markdown",
      "metadata": {
        "id": "view-in-github",
        "colab_type": "text"
      },
      "source": [
        "<a href=\"https://colab.research.google.com/github/Radiologicsguy/Breast-lesion-using-fusion-models/blob/main/radioLogics1_2.ipynb\" target=\"_parent\"><img src=\"https://colab.research.google.com/assets/colab-badge.svg\" alt=\"Open In Colab\"/></a>"
      ]
    },
    {
      "cell_type": "code",
      "source": [
        "!pip install pydicom"
      ],
      "metadata": {
        "colab": {
          "base_uri": "https://localhost:8080/"
        },
        "id": "sNW9qq5AhNy0",
        "outputId": "d82e8744-d619-4809-eddb-fae7f48edeb1"
      },
      "execution_count": 1,
      "outputs": [
        {
          "output_type": "stream",
          "name": "stdout",
          "text": [
            "Looking in indexes: https://pypi.org/simple, https://us-python.pkg.dev/colab-wheels/public/simple/\n",
            "Collecting pydicom\n",
            "  Downloading pydicom-2.3.1-py3-none-any.whl (2.0 MB)\n",
            "\u001b[?25l     \u001b[90m━━━━━━━━━━━━━━━━━━━━━━━━━━━━━━━━━━━━━━━━\u001b[0m \u001b[32m0.0/2.0 MB\u001b[0m \u001b[31m?\u001b[0m eta \u001b[36m-:--:--\u001b[0m\r\u001b[2K     \u001b[91m━━━━━━━━━━━━━━━━━━━━━━━━━━━━━━━━━━━━━━━\u001b[0m\u001b[91m╸\u001b[0m \u001b[32m2.0/2.0 MB\u001b[0m \u001b[31m96.8 MB/s\u001b[0m eta \u001b[36m0:00:01\u001b[0m\r\u001b[2K     \u001b[90m━━━━━━━━━━━━━━━━━━━━━━━━━━━━━━━━━━━━━━━━\u001b[0m \u001b[32m2.0/2.0 MB\u001b[0m \u001b[31m50.1 MB/s\u001b[0m eta \u001b[36m0:00:00\u001b[0m\n",
            "\u001b[?25hInstalling collected packages: pydicom\n",
            "Successfully installed pydicom-2.3.1\n"
          ]
        }
      ]
    },
    {
      "cell_type": "code",
      "source": [
        "!cp /content/drive/MyDrive/breast_segment-master.zip /content"
      ],
      "metadata": {
        "id": "zzYIxqwWzIL9"
      },
      "execution_count": 2,
      "outputs": []
    },
    {
      "cell_type": "code",
      "source": [
        "!unzip /content/breast_segment-master.zip"
      ],
      "metadata": {
        "colab": {
          "base_uri": "https://localhost:8080/"
        },
        "id": "jAUNGtOL0vzN",
        "outputId": "22b197d0-3271-449d-d0ad-d769b0381b94"
      },
      "execution_count": 3,
      "outputs": [
        {
          "output_type": "stream",
          "name": "stdout",
          "text": [
            "Archive:  /content/breast_segment-master.zip\n",
            "e08ddc610389dcef5217a1517a81e399f39fc4ac\n",
            "   creating: breast_segment-master/\n",
            "  inflating: breast_segment-master/.gitignore  \n",
            "  inflating: breast_segment-master/LICENSE  \n",
            "  inflating: breast_segment-master/README.md  \n",
            "   creating: breast_segment-master/breast_segment/\n",
            " extracting: breast_segment-master/breast_segment/__init__.py  \n",
            "  inflating: breast_segment-master/breast_segment/breast_segment.py  \n",
            "   creating: breast_segment-master/examples/\n",
            "  inflating: breast_segment-master/examples/ddsm_examples.ipynb  \n",
            "   creating: breast_segment-master/images/\n",
            "   creating: breast_segment-master/images/jpeg/\n",
            "  inflating: breast_segment-master/images/jpeg/bbox.jpg  \n",
            "  inflating: breast_segment-master/images/jpeg/mask.jpg  \n",
            "  inflating: breast_segment-master/images/jpeg/original.jpg  \n",
            "  inflating: breast_segment-master/images/jpeg/overlay.jpg  \n",
            "   creating: breast_segment-master/images/png/\n",
            "  inflating: breast_segment-master/images/png/bbox.png  \n",
            "  inflating: breast_segment-master/images/png/mask.png  \n",
            "  inflating: breast_segment-master/images/png/original.png  \n",
            "  inflating: breast_segment-master/images/png/overlay.png  \n"
          ]
        }
      ]
    },
    {
      "cell_type": "code",
      "source": [
        "!cp /content/breast_segment-master/breast_segment/breast_segment.py /content"
      ],
      "metadata": {
        "id": "Lw7wczHs1758"
      },
      "execution_count": 4,
      "outputs": []
    },
    {
      "cell_type": "code",
      "source": [],
      "metadata": {
        "id": "TX1DX_mHdgBH"
      },
      "execution_count": null,
      "outputs": []
    }
  ]
}